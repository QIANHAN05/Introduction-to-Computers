{
  "cells": [
    {
      "cell_type": "markdown",
      "metadata": {
        "id": "view-in-github",
        "colab_type": "text"
      },
      "source": [
        "<a href=\"https://colab.research.google.com/github/QIANHAN05/Introduction-to-Computers/blob/main/0517.ipynb\" target=\"_parent\"><img src=\"https://colab.research.google.com/assets/colab-badge.svg\" alt=\"Open In Colab\"/></a>"
      ]
    },
    {
      "cell_type": "code",
      "execution_count": null,
      "metadata": {
        "colab": {
          "base_uri": "https://localhost:8080/"
        },
        "id": "cymZBKMczYmi",
        "outputId": "112b9302-fc9b-41ee-8a90-f2e4b9e398e8"
      },
      "outputs": [
        {
          "name": "stdout",
          "output_type": "stream",
          "text": [
            "score:55\n",
            "Grade is:F\n"
          ]
        }
      ],
      "source": [
        "score=int(input(\"score:\"))\n",
        "if score>=90:\n",
        "  print('Grade is:A')\n",
        "elif score >= 80:\n",
        "  print('Grade is:B')\n",
        "elif score >= 70:\n",
        "  print('Grade is:C')\n",
        "elif score >= 60:\n",
        "  print('Grade is:D')\n",
        "else:\n",
        "  print('Grade is:F')"
      ]
    },
    {
      "cell_type": "code",
      "source": [
        "rain=(input(\"今天會下雨嗎?\"))\n",
        "if (rain==\"Y\" or rain==\"y\"):\n",
        "  print(\"出門記得帶傘\")\n",
        "elif (rain==\"N\" or rain==\"n\"):\n",
        "  print(\"不用帶傘\")\n",
        "else:\n",
        "  print(\"輸出無效\")"
      ],
      "metadata": {
        "id": "wX_V3n7tOVKh"
      },
      "execution_count": null,
      "outputs": []
    },
    {
      "cell_type": "code",
      "execution_count": null,
      "metadata": {
        "id": "y5J4Jlyj0feP",
        "outputId": "da964e6e-882a-40b6-aa50-dacf09941dd9",
        "colab": {
          "base_uri": "https://localhost:8080/"
        }
      },
      "outputs": [
        {
          "output_type": "stream",
          "name": "stdout",
          "text": [
            "temperature:35\n",
            "體溫正常\n"
          ]
        }
      ],
      "source": [
        "temperature = float(input(\"temperature:\"))\n",
        "if 34 <= temperature <36.9:\n",
        "      print('體溫正常')\n",
        "elif 37 <= temperature <37.4:\n",
        "      print('體溫略高！')\n",
        "elif temperature >=37.5:\n",
        "      print('體溫過高！')\n",
        "else:\n",
        "      print('體溫異常，請重新測量')"
      ]
    },
    {
      "cell_type": "code",
      "execution_count": null,
      "metadata": {
        "colab": {
          "base_uri": "https://localhost:8080/"
        },
        "id": "H3zc4fECHEll",
        "outputId": "ceb815d5-4c0e-4685-eb84-a57ec6f67e7e"
      },
      "outputs": [
        {
          "name": "stdout",
          "output_type": "stream",
          "text": [
            "請輸入成績：55\n",
            "E\n"
          ]
        }
      ],
      "source": [
        "score = int(input(\"請輸入成績：\"))\n",
        "if score >=90:\n",
        "       print('A')\n",
        "elif score >=80:\n",
        "       print('B')\n",
        "elif score >=70:\n",
        "       print('C')\n",
        "elif score >=60:\n",
        "       print('D')\n",
        "else:\n",
        "       print('E')"
      ]
    },
    {
      "cell_type": "code",
      "execution_count": null,
      "metadata": {
        "id": "W6P4LPKF5tqC",
        "outputId": "cbdd8ad8-ac8e-43ef-bff6-c0a64f087091",
        "colab": {
          "base_uri": "https://localhost:8080/"
        }
      },
      "outputs": [
        {
          "output_type": "stream",
          "name": "stdout",
          "text": [
            "請輸入季節:12\n",
            "12月是冬天!\n"
          ]
        }
      ],
      "source": [
        "season =int(input(\"請輸入季節:\"))\n",
        "if 3<= season <=5:\n",
        "   print(\"%s月是春天!\"%season)\n",
        "elif 6<= season <=8:\n",
        "   print(\"%s月是夏天!\"%season)\n",
        "elif 9<= season <=11:\n",
        "   print(\"%s月是秋天!\"%season)\n",
        "elif 1<= season <=2:\n",
        "   print(\"%s月是冬天!\"%season)\n",
        "elif season==12:\n",
        "   print(\"%s月是冬天!\"%season)\n",
        "else:\n",
        "   print(\"月份不在範圍內!\")"
      ]
    },
    {
      "cell_type": "code",
      "source": [
        "revenue = int(input(\"請輸入今年收入淨額:\"))\n",
        "if revenue >=2000000 :\n",
        "     money = revenue*0.3\n",
        "     print(\"付稅金額:%s元\"%money)\n",
        "elif revenue >=1000000 :     \n",
        "       money = revenue*0.21\n",
        "       print(\"付稅金額:%s元\"%money)\n",
        "elif revenue >=600000 :\n",
        "       money = revenue*0.13\n",
        "       print(\"付稅金額:%s元\"%money)\n",
        "elif revenue >=300000 :\n",
        "     money = revenue*0.06\n",
        "     print(\"付稅金額:%s元\"%money)"
      ],
      "metadata": {
        "id": "qDA4cBEQ9ZKw",
        "colab": {
          "base_uri": "https://localhost:8080/"
        },
        "outputId": "8453f78a-5ef5-4dc2-e6a4-f99df29b499b"
      },
      "execution_count": null,
      "outputs": [
        {
          "output_type": "stream",
          "name": "stdout",
          "text": [
            "請輸入今年收入淨額:300001\n",
            "付稅金額:18000.059999999998元\n"
          ]
        }
      ]
    }
  ],
  "metadata": {
    "colab": {
      "provenance": [],
      "authorship_tag": "ABX9TyPGMBEg/ENsxK0gqN4FNwIR",
      "include_colab_link": true
    },
    "kernelspec": {
      "display_name": "Python 3",
      "name": "python3"
    },
    "language_info": {
      "name": "python"
    }
  },
  "nbformat": 4,
  "nbformat_minor": 0
}