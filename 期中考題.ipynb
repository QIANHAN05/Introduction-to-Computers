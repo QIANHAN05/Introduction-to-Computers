{
  "nbformat": 4,
  "nbformat_minor": 0,
  "metadata": {
    "colab": {
      "provenance": [],
      "authorship_tag": "ABX9TyN/3OYSGhtI3sIeg5FZp3se",
      "include_colab_link": true
    },
    "kernelspec": {
      "name": "python3",
      "display_name": "Python 3"
    },
    "language_info": {
      "name": "python"
    }
  },
  "cells": [
    {
      "cell_type": "markdown",
      "metadata": {
        "id": "view-in-github",
        "colab_type": "text"
      },
      "source": [
        "<a href=\"https://colab.research.google.com/github/QIANHAN05/Introduction-to-Computers/blob/main/%E6%9C%9F%E4%B8%AD%E8%80%83%E9%A1%8C.ipynb\" target=\"_parent\"><img src=\"https://colab.research.google.com/assets/colab-badge.svg\" alt=\"Open In Colab\"/></a>"
      ]
    },
    {
      "cell_type": "code",
      "source": [
        "print(\"peiyu\")"
      ],
      "metadata": {
        "colab": {
          "base_uri": "https://localhost:8080/"
        },
        "id": "WQ8LwQE-MkCS",
        "outputId": "10c8464e-2ad1-440a-f01b-ee9451666cb7"
      },
      "execution_count": 2,
      "outputs": [
        {
          "output_type": "stream",
          "name": "stdout",
          "text": [
            "peiyu\n"
          ]
        }
      ]
    },
    {
      "cell_type": "code",
      "execution_count": 1,
      "metadata": {
        "colab": {
          "base_uri": "https://localhost:8080/"
        },
        "id": "-TagZnMALtmB",
        "outputId": "00067af9-e597-41e1-a104-fd1fdcf34d82"
      },
      "outputs": [
        {
          "output_type": "stream",
          "name": "stdout",
          "text": [
            "1加到100的總和是: 5050\n"
          ]
        }
      ],
      "source": [
        "total=0\n",
        "for i in range(1,101):\n",
        "    total +=i\n",
        "print(\"1加到100的總和是:\", total)"
      ]
    },
    {
      "cell_type": "code",
      "source": [
        "身高=int(input('請輸入您的身高(cm):'))"
      ],
      "metadata": {
        "colab": {
          "base_uri": "https://localhost:8080/"
        },
        "id": "zBPnqBx-MGci",
        "outputId": "597f9b1e-1c8d-4b80-ecbe-ccf9e467c961"
      },
      "execution_count": 3,
      "outputs": [
        {
          "name": "stdout",
          "output_type": "stream",
          "text": [
            "請輸入您的身高(cm):176\n"
          ]
        }
      ]
    },
    {
      "cell_type": "code",
      "source": [
        "體重=int(input('請輸入您的體重(kg):'))"
      ],
      "metadata": {
        "colab": {
          "base_uri": "https://localhost:8080/"
        },
        "id": "HL9umpF9NBDR",
        "outputId": "0bdc4802-32a9-4d3b-9e9e-8f978592ad8c"
      },
      "execution_count": 4,
      "outputs": [
        {
          "name": "stdout",
          "output_type": "stream",
          "text": [
            "請輸入您的體重(kg):75\n"
          ]
        }
      ]
    },
    {
      "cell_type": "code",
      "source": [
        "BMI=體重/(身高/100)**2"
      ],
      "metadata": {
        "id": "EzV9Y8HBNc3c"
      },
      "execution_count": 5,
      "outputs": []
    },
    {
      "cell_type": "code",
      "source": [
        "BMI"
      ],
      "metadata": {
        "colab": {
          "base_uri": "https://localhost:8080/"
        },
        "id": "RQLtCoy0N2mz",
        "outputId": "9181f070-9a99-473c-a250-e43ceecc7766"
      },
      "execution_count": 6,
      "outputs": [
        {
          "output_type": "execute_result",
          "data": {
            "text/plain": [
              "24.212293388429753"
            ]
          },
          "metadata": {},
          "execution_count": 6
        }
      ]
    },
    {
      "cell_type": "code",
      "source": [
        "print('身高',身高,\"公分\"'體重',體重,\"公斤\"'BMI值為',BMI,sep=' ')"
      ],
      "metadata": {
        "colab": {
          "base_uri": "https://localhost:8080/"
        },
        "id": "kti4NU7qN6Pz",
        "outputId": "cd3ce596-0124-421f-deff-523947adea6d"
      },
      "execution_count": 7,
      "outputs": [
        {
          "output_type": "stream",
          "name": "stdout",
          "text": [
            "身高 176 公分體重 75 公斤BMI值為 24.212293388429753\n"
          ]
        }
      ]
    },
    {
      "cell_type": "code",
      "source": [],
      "metadata": {
        "id": "5pYi3tBNOfsI"
      },
      "execution_count": null,
      "outputs": []
    }
  ]
}